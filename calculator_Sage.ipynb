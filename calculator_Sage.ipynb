{
 "cells": [
  {
   "cell_type": "markdown",
   "metadata": {
    "collapsed": false
   },
   "source": [
    "EJERCICOS DE SAGE COMO CALCULADORA\n"
   ]
  },
  {
   "cell_type": "code",
   "execution_count": 1,
   "metadata": {
    "collapsed": false
   },
   "outputs": [],
   "source": [
    "\"\"\"\n",
    "Cada bloque de código, hace referencia a un cálculo distinto. Este primero, importa todas las funciones necesarias para realizar los cálculos \n",
    "pedidos, explicados a continuación. Una aclaración general: El uso del asterisco (*) importa todo el contenido, lo que significa que no es necesario \n",
    "usar el prefijo \"módulo\". para acceder a funciones y clases específicas.\n",
    "\"\"\"\n",
    "from sympy import * # El módulo sympy proporciona herramientas para trabajar con matemáticas simbólicas, recollver ecuaciones, etc. \n",
    "from math import * # El módulo math, proporciona herramientas para trabajar con funciones logarítmicas, exponenciales, trigonométricas...\n",
    "from mpmath import mp # Importa el objeto mp del módulo math, para realizar cálculos de precisión libre\n",
    "from cmath import sqrt # Importa la función sqrt del módulo cmath, el cual permite trabajart con números complejos\n",
    "\"\"\"\n",
    "Este último, es una forma de importar un módulo, el módulo mpmath en este caso. Este me permite trabajar con precisión arbitraria de unidades \n",
    "decimales, y al importarlo \"as\" (como) mp, le estoy poniendo el alias de mp, de tal forma que es más comodo acceder a las funciones que me ofrece \n",
    "el módulo mpmath,\n",
    "\"\"\"\n",
    "import mpmath as mp"
   ]
  },
  {
   "cell_type": "code",
   "execution_count": 2,
   "metadata": {
    "collapsed": false
   },
   "outputs": [
    {
     "data": {
      "text/plain": [
       "(4, 4.00000000000000)"
      ]
     },
     "execution_count": 2,
     "metadata": {},
     "output_type": "execute_result"
    }
   ],
   "source": [
    "# Divide 28 por 2 elevado a la quinta potencia como número racional y obtén después su aproximación decimal\n",
    "racional = Rational(28, 2^5) \n",
    "aproximación_decimal = N(racional) \n",
    "\n",
    "racional, aproximación_decimal "
   ]
  },
  {
   "cell_type": "code",
   "execution_count": 3,
   "metadata": {
    "collapsed": false
   },
   "outputs": [
    {
     "data": {
      "text/latex": [
       "$\\displaystyle 1.414213562$"
      ],
      "text/plain": [
       "1.414213562"
      ]
     },
     "execution_count": 3,
     "metadata": {},
     "output_type": "execute_result"
    }
   ],
   "source": [
    "# Obtiene una aproximación decimal de la raíz cuadrada de 2\n",
    "sqrt_2 = sqrt(2)\n",
    "N(sqrt_2, n=10) # n hace referencia al numero de dígitos, 10 en este caso "
   ]
  },
  {
   "cell_type": "code",
   "execution_count": 4,
   "metadata": {
    "collapsed": false
   },
   "outputs": [
    {
     "data": {
      "text/plain": [
       "3j"
      ]
     },
     "execution_count": 4,
     "metadata": {},
     "output_type": "execute_result"
    }
   ],
   "source": [
    "# Calcula la raíz cuadrada de -9\n",
    "raiz_cuadrada_negativa_9 = sqrt(-9)\n",
    "raiz_cuadrada_negativa_9"
   ]
  },
  {
   "cell_type": "code",
   "execution_count": 5,
   "metadata": {
    "collapsed": false
   },
   "outputs": [
    {
     "data": {
      "text/plain": [
       "51.0"
      ]
     },
     "execution_count": 5,
     "metadata": {},
     "output_type": "execute_result"
    }
   ],
   "source": [
    "# Calcula el logaritmo en base 3 de 2153693963075557766310747\n",
    "log_base_3 = log(2153693963075557766310747, 3)\n",
    "log_base_3"
   ]
  },
  {
   "cell_type": "code",
   "execution_count": 6,
   "metadata": {
    "collapsed": false
   },
   "outputs": [
    {
     "data": {
      "text/plain": [
       "'2.7182818284590450907955982984276488423347473144531'"
      ]
     },
     "execution_count": 6,
     "metadata": {},
     "output_type": "execute_result"
    }
   ],
   "source": [
    "# Calcula las 50 primeras cifras decimales del número e\n",
    "e_digitos = mp.mpf(e)\n",
    "mp.dps = 50\n",
    "e_digitos = mp.nstr(e_digitos, 50)\n",
    "e_digitos"
   ]
  },
  {
   "cell_type": "code",
   "execution_count": 7,
   "metadata": {
    "collapsed": false
   },
   "outputs": [
    {
     "data": {
      "text/latex": [
       "$\\displaystyle 3.14159265358979$"
      ],
      "text/plain": [
       "3.14159265358979"
      ]
     },
     "execution_count": 7,
     "metadata": {},
     "output_type": "execute_result"
    }
   ],
   "source": [
    "# Calcula las 80 primeras cifras decimales del número π\n",
    "pi_digitos = RealNumber(pi).round(80)\n",
    "pi_digitos"
   ]
  },
  {
   "cell_type": "code",
   "execution_count": 8,
   "metadata": {
    "collapsed": false
   },
   "outputs": [
    {
     "data": {
      "text/plain": [
       "(9, 74)"
      ]
     },
     "execution_count": 8,
     "metadata": {},
     "output_type": "execute_result"
    }
   ],
   "source": [
    "# Obtiene el cociente y el resto de dividir 956 entre 98\n",
    "cociente, resto = divmod(956, 98)\n",
    "cociente, resto"
   ]
  },
  {
   "cell_type": "code",
   "execution_count": 9,
   "metadata": {
    "collapsed": false
   },
   "outputs": [
    {
     "data": {
      "text/plain": [
       "2"
      ]
     },
     "execution_count": 9,
     "metadata": {},
     "output_type": "execute_result"
    }
   ],
   "source": [
    "# Comprueba que el cociente y el resto obtenidos en el apartado anterior son correctos con la prueba de Euclides\n",
    "mcd = gcd(956, 98)\n",
    "mcd"
   ]
  },
  {
   "cell_type": "code",
   "execution_count": 10,
   "metadata": {
    "collapsed": false
   },
   "outputs": [
    {
     "data": {
      "text/plain": [
       "False"
      ]
     },
     "execution_count": 10,
     "metadata": {},
     "output_type": "execute_result"
    }
   ],
   "source": [
    "# Determina si 3 divide a 234878\n",
    "divisible_por_3 = (234878 % 3 == 0)\n",
    "divisible_por_3"
   ]
  },
  {
   "cell_type": "code",
   "execution_count": 11,
   "metadata": {
    "collapsed": false
   },
   "outputs": [
    {
     "data": {
      "text/plain": [
       "([1, 2, 67, 134],\n",
       " [1, 491],\n",
       " [1, 2, 211, 422],\n",
       " [1, 2, 3, 6, 167, 334, 501, 1002])"
      ]
     },
     "execution_count": 11,
     "metadata": {},
     "output_type": "execute_result"
    }
   ],
   "source": [
    "# Calcula la lista de divisores de cada uno de los siguientes números enteros: 134, 491, 422 y 1002\n",
    "divisores_134 = divisors(134)\n",
    "divisores_491 = divisors(491)\n",
    "divisores_422 = divisors(422)\n",
    "divisores_1002 = divisors(1002)\n",
    "\n",
    "divisores_134, divisores_491, divisores_422, divisores_1002"
   ]
  },
  {
   "cell_type": "code",
   "execution_count": 12,
   "metadata": {
    "collapsed": false
   },
   "outputs": [
    {
     "data": {
      "text/plain": [
       "(False, True, False, False)"
      ]
     },
     "execution_count": 12,
     "metadata": {},
     "output_type": "execute_result"
    }
   ],
   "source": [
    "# Halla cuales de los números del bloque anterior, son primos\n",
    "# Dado que daba problemas la función is_prime del módulo sympy, he creado yo mismo la función previamente\n",
    "def is_prime(n):\n",
    "    if n <= 1:\n",
    "        return False\n",
    "    for i in range(2, int(n ** 0.5) + 1):\n",
    "        if n % i == 0:\n",
    "            return False\n",
    "    return True\n",
    "primo_134 = is_prime(134)\n",
    "primo_491 = is_prime(491)\n",
    "primo_422 = is_prime(422)\n",
    "primo_1002 = is_prime(1002)\n",
    "\n",
    "primo_134, primo_491, primo_422, primo_1002"
   ]
  },
  {
   "cell_type": "code",
   "execution_count": 13,
   "metadata": {
    "collapsed": false
   },
   "outputs": [
    {
     "data": {
      "text/plain": [
       "(1, 2, 3, 10, 20, 306)"
      ]
     },
     "execution_count": 13,
     "metadata": {},
     "output_type": "execute_result"
    }
   ],
   "source": [
    "# Calcula el máximo común divisor (mcd) y el mínimo común múltiple (mcm) para los pares de números enteros (2,5), (4,10) y (18, 51).\n",
    "mcd_2_5 = gcd(2, 5)\n",
    "mcd_4_10 = gcd(4, 10)\n",
    "mcd_18_51 = gcd(18, 51)\n",
    "\n",
    "mcm_2_5 = lcm(2, 5)\n",
    "mcm_4_10 = lcm(4, 10)\n",
    "mcm_18_51 = lcm(18, 51)\n",
    "\n",
    "mcd_2_5, mcd_4_10, mcd_18_51, mcm_2_5, mcm_4_10, mcm_18_51"
   ]
  },
  {
   "cell_type": "markdown",
   "metadata": {
    "collapsed": false
   },
   "source": []
  }
 ],
 "metadata": {
  "kernelspec": {
   "argv": [
    "/usr/bin/python3",
    "-m",
    "ipykernel",
    "--HistoryManager.enabled=False",
    "--matplotlib=inline",
    "-c",
    "%config InlineBackend.figure_formats = set(['retina'])\nimport matplotlib; matplotlib.rcParams['figure.figsize'] = (12, 7)",
    "-f",
    "{connection_file}"
   ],
   "display_name": "Python 3 (system-wide)",
   "env": {},
   "language": "python",
   "metadata": {
    "cocalc": {
     "description": "Python 3 programming language",
     "priority": 100,
     "url": "https://www.python.org/"
    }
   },
   "name": "python3",
   "resource_dir": "/ext/jupyter/kernels/python3"
  },
  "language_info": {
   "codemirror_mode": {
    "name": "ipython",
    "version": 3
   },
   "file_extension": ".py",
   "mimetype": "text/x-python",
   "name": "python",
   "nbconvert_exporter": "python",
   "pygments_lexer": "ipython3",
   "version": "3.12.0"
  }
 },
 "nbformat": 4,
 "nbformat_minor": 4
}
